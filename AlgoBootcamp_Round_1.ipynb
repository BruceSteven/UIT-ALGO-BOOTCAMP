{
  "nbformat": 4,
  "nbformat_minor": 0,
  "metadata": {
    "colab": {
      "name": "AlgoBootcamp_Round_1.ipynb",
      "provenance": [],
      "toc_visible": true,
      "authorship_tag": "ABX9TyNagpSKRE4IT8oacWNJ5Arp",
      "include_colab_link": true
    },
    "kernelspec": {
      "name": "python3",
      "display_name": "Python 3"
    },
    "language_info": {
      "name": "python"
    }
  },
  "cells": [
    {
      "cell_type": "markdown",
      "metadata": {
        "id": "view-in-github",
        "colab_type": "text"
      },
      "source": [
        "<a href=\"https://colab.research.google.com/github/BruceSteven/UIT-ALGO-BOOTCAMP/blob/main/AlgoBootcamp_Round_1.ipynb\" target=\"_parent\"><img src=\"https://colab.research.google.com/assets/colab-badge.svg\" alt=\"Open In Colab\"/></a>"
      ]
    },
    {
      "cell_type": "markdown",
      "metadata": {
        "id": "1mWrD2vO1NlP"
      },
      "source": [
        "# Bài 1"
      ]
    },
    {
      "cell_type": "markdown",
      "metadata": {
        "id": "E3aRDB7238Gt"
      },
      "source": [
        "##**Tóm Tẳt**\n",
        "Cho ma trận $N*M$ ký tự $(1 \\le N*M \\le 10^5)$ và $Q$ xâu truy vấn có độ dài $[2..10]$ $(Q \\le 10^4)$. Kiểm tra các xâu truy vấn có tồn tại trong ma trận theo cột hay hàng không?\n",
        "\n",
        "**Ràng buộc:**\n",
        "\n",
        "* 1 <= N * M <= 100.000\n",
        "* 1 <= Q <= 10.000\n",
        "Thời gian mỗi test là 1s\n",
        "\n"
      ]
    },
    {
      "cell_type": "markdown",
      "metadata": {
        "id": "NuvGBw284uQQ"
      },
      "source": [
        "##**Tiếp cận**\n",
        "**Tiếp cận 1 : Brute force**\n",
        "\n",
        "Với mỗi từ thuộc Q, duyệt qua từng phần tử trong bảng ký tự cho đến khi tìm được.\n",
        "ĐPT ~ O(QxNxM) -> Không khả thi.\n",
        "\n",
        "**Tiếp cận 2 : Hashing + Binear Search**\n",
        "\n",
        "Dùng **vét cạn** kết hợp **hashing** chia các nhóm từ trong bảng chữ cái MxN (từ trên xuống, từ trái sang phải) thành các nhóm có cùng độ dài (nhỏ hơn 10). Kết hợp **tìm kiếm nhị phân** trên tập hợp các nhóm từ đã sắp xếp so sánh với Q từ cần tìm.\n",
        "\n",
        "ĐPT : ~ O(10.N.M.log2(N.M)) + O(Q.log2(N.M))\n",
        "\n",
        "**Tiếp cận 3 : Hasing + Trie**\n",
        "\n",
        "Tương tự tiếp cận 2 nhưng thay vì dùng STL ta dùng cấu trúc **cây tiền tố trie**.\n",
        "\n",
        "Cây trie ở đây mỗi node sẽ lưu con trỏ đến 26 node con, tương ứng là 26 ký tự biểu diễn bảng a..z. Việc tạo cây sẽ có độ phức tạp là O(N.M.10) và việc gọi truy vấn có độ phức tạp là O(10.Q) với 10 là chiều dài tối đa của từ truy vấn. Vậy tổng độ phức tạp của bài toán là O(N.M.10) + O(10.Q), nhanh hơn so với Tiếp cận 2."
      ]
    },
    {
      "cell_type": "markdown",
      "metadata": {
        "id": "gkeI5R9WRhmA"
      },
      "source": [
        "##**Code**"
      ]
    },
    {
      "cell_type": "code",
      "metadata": {
        "id": "IIX3mJpuCXCY"
      },
      "source": [
        "n, m, q = [int(i) for i in input().strip().split(' ')]\n",
        "a = [None] * n \n",
        "for i in range(n):\n",
        "    a[i] = input().strip()\n",
        "\n",
        "s = [set()] * 11 \n",
        "for i in range(n):\n",
        "    for j in range(m):\n",
        "        for t in range(1, 11):\n",
        "            if (j + t - 1 < m):\n",
        "                s[t].add(a[i][j:j + t])\n",
        "            if (i + t - 1 < n):\n",
        "                s[t].add(\"\".join([a[i + x][j] for x in range(t)]))\n",
        "            \n",
        "for i in range(q):\n",
        "    key = input().strip()\n",
        "    if (key in s[len(key)]):\n",
        "        print('1', end=\"\")\n",
        "    else:\n",
        "        print('0', end=\"\")\n",
        "\n",
        "print()"
      ],
      "execution_count": null,
      "outputs": []
    },
    {
      "cell_type": "markdown",
      "metadata": {
        "id": "nAXkI9SC1tRV"
      },
      "source": [
        "# Bài 2"
      ]
    },
    {
      "cell_type": "markdown",
      "metadata": {
        "id": "E2Nu8frUQEBZ"
      },
      "source": [
        "##**Tóm Tắt**\n",
        "Cho N và S, với i = [1..n] thêm dấu \"+\" hoặc \"-\" trước mỗi i để được tổng = S, nếu không có in ra \"NO_SOLUTION\"\n",
        "\n",
        "**Ràng buộc**\n",
        "\n",
        "* 1 <= N <= 100\n",
        "* 1 <= S <= 10000\n",
        "\n",
        "\n",
        "\n",
        "\n",
        "\n"
      ]
    },
    {
      "cell_type": "markdown",
      "metadata": {
        "id": "DkCwpdM9Rxgo"
      },
      "source": [
        "##**Tiếp Cận**\n",
        "**Tiếp cận 1**\n",
        "\n",
        "Giả sử tất cả các số từ 1 đến N đều mang dấu \"+\". Như vậy biểu diễn được tổng T = N x (N + 1) / 2. Trong khi ta muốn nó biểu diễn là tổng S. Vậy, nếu S > T thì không tồn tại đáp án. Nếu S <= T thì ta cần gán dấu \"-\" cho một vài số. Khi gán dấu \"-\" cho số x bất kỳ từ 1 đến N, thì tổng T sẽ giảm T = T - 2 * x, và ta cần giảm đi T - S để biểu thức biểu diễn tổng S. Vậy nên tóm lại ta sẽ có biểu thức: T - S = 2 * x1 + 2 * x2 + ... + 2 * xp (với x1, x2, ..., xp là các số gán dấu \"-\"). Rút gọn biểu thức trên ta được (T - S) / 2 = (x1 + x2 + ... + xp), suy ra (T - S) % 2 = 0 thì mới tồn tại đáp án.\n",
        "\n",
        " **Tiếp cận 2**\n",
        "\n",
        "Từ nhận xét ở tiếp cận 1: (T - S) / 2 = (x1 + x2 + ... + xp). Ta chuyển bài toán về quy hoạch động cơ bản, đó là bài toán tìm dãy con có tổng bằng S. Chi tiết tham khảo tại: https://vnoi.info/wiki/algo/dp/basic-problems.md\n",
        "\n",
        "Độ phức tạp thuật toán ở đây ~ O(N.(T-S)).\n",
        "\n",
        "**Tiếp cận 3**\n",
        "\n",
        "Giả sử tồn tại đáp án. Ta có M = (T - S) / 2. Ta M:= M - i với i bắt đầu từ 1 đến N cho đến khi M <= 0 tại vị trí p nào đó (1 <= p <= N). Nếu M = 0 thì tìm được đáp án, ngược lại gọi x = -M, 1 <= x < p, vậy ta cần gán lại dấu \"+\" cho x thì M = 0, tìm được đáp án. Độ phức tạp O(n)."
      ]
    },
    {
      "cell_type": "markdown",
      "metadata": {
        "id": "AdELr9KP3o4h"
      },
      "source": [
        "##**Code**"
      ]
    },
    {
      "cell_type": "code",
      "metadata": {
        "id": "gJPNzWTDSYZp"
      },
      "source": [
        "arr = [int(i) for i in input().split()]\n",
        "n, s = arr[0], arr[1]\n",
        "ans = [' ' for i in range(n+10)]\n",
        "\n",
        "if s > n*(n + 1)/2:\n",
        "    print(\"NO_SOLUTION\")\n",
        "elif (s - (n*(n + 1)/2)) % 2 != 0:\n",
        "    print(\"NO_SOLUTION\")\n",
        "else:\n",
        "    for i in range(1, n+1):\n",
        "        ans[i] = '+'\n",
        "    sum = 0\n",
        "    pres = ((n*(n + 1)/2) - s) /2\n",
        "    for i in range(1, n+1):\n",
        "        sum += i\n",
        "        if sum > pres:\n",
        "            for j in range(1, i+1):\n",
        "                if j != sum - pres:\n",
        "                    ans[j] = '-'\n",
        "            break\n",
        "\n",
        "    for i in range(1, n+1):\n",
        "        print(ans[i], end = \"\")"
      ],
      "execution_count": null,
      "outputs": []
    },
    {
      "cell_type": "markdown",
      "metadata": {
        "id": "E1HbY7hU1wr1"
      },
      "source": [
        "\n",
        "\n",
        "# Bài 3\n"
      ]
    },
    {
      "cell_type": "markdown",
      "metadata": {
        "id": "r9uPlmJwSvgp"
      },
      "source": [
        "##**Tóm Tắt**\n",
        "Cho dãy N phần tử ban đầu đều bằng 0, Q truy vấn có dạng, mỗi truy vấn bắt đầu bằng x. Có 2 loại truy vấn,\n",
        "\n",
        "x = 1 là tăng đoạn [l,r] lên v đơn vị\n",
        "x = 2 là tìm k phần tử lớn nhất trong dãy\n",
        "\n",
        "**Ràng buộc**\n",
        "* 1 <= N, Q <= 50.000\n",
        "* 1 <= l <= r <= N\n",
        "* -1e9 <= v <= 1e9 \n",
        "* 1 <= K <= 5\n",
        "* Thời gian, 1s "
      ]
    },
    {
      "cell_type": "markdown",
      "metadata": {
        "id": "32_JJorj3jav"
      },
      "source": [
        "##**Tiếp Cận**\n",
        "**Tiếp cận 1**\n",
        "\n",
        "Bài toán có 2 loại truy vấn, một là tăng giá trị trên đoạn, 2 là tìm những chỉ số thỏa mãn. Thử dùng vét cạn, mỗi truy vấn sẽ tốn độ phức tạp O(N) và tổng độ phức tạp là O(N x Q) ~O(6e10), không khả thi với bài toán.\n",
        "\n",
        "**Tiếp cận 2**\n",
        "\n",
        "Số lượng câu truy vấn Q không có gì để tối ưu, nên ở đây cần tối ưu độ phức tạp cho mỗi câu truy vấn. Gợi ý là cây Segment Tree với dữ liệu mỗi node của cây có lưu thêm set chỉ số là top bài hát được yêu thích. Chi tiết cây segment tree tại đây (trong bài toán áp dụng với cấu trúc dữ liệu set, mục 4) https://vnoi.info/wiki/algo/data-structures/segment-tree-extend.md\n",
        "\n",
        "Như vậy độ phức tạp mỗi truy vấn loại update hay get là ~O(K.log2(N).log2(K)). Ở đây mỗi node, set chỉ cần lưu tối đa 5 phần tử. Tổng độ phức tạp ~O(Q.log2(N).K.log2(K)). Có thể AC nếu cài đặt tối ưu.\n",
        "\n",
        "**Tiếp cận 3**\n",
        "\n",
        "Thay vì dùng set thì dùng vector với thao tác merge, độ phức tạp ~O(Q.log2(N).K). Trong C++, thao tác merge có thể tham khảo: https://www.cplusplus.com/reference/algorithm/merge/\n",
        "\n",
        "Một cach giải khác, hướng tiếp cận : https://cp-algorithms.com/data_structures/sqrt_decomposition.html"
      ]
    },
    {
      "cell_type": "markdown",
      "metadata": {
        "id": "MlTHbbsx3uaX"
      },
      "source": [
        "##**Code**"
      ]
    },
    {
      "cell_type": "code",
      "metadata": {
        "id": "AhbFPhWQTTo5"
      },
      "source": [
        "inp = input().strip().split()\n",
        "n, Q = int(inp[0]), int(inp[1])\n",
        "\n",
        "left = [0 for x in range(50000*4+10)]\n",
        "right = [0 for x in range(50000*4+10)]\n",
        "tree = [{()} for x in range(50000*4+10)]\n",
        "lazy = [0 for x in range(50000*4+10)]\n",
        "\n",
        "def build(id, l, r):\n",
        "\tlazy[id] = 0\n",
        "\tleft[id], right[id] = l, r\n",
        "\tif l == r:\n",
        "\t\ttree[id].clear()\n",
        "\t\ttree[id].add((0, l))\n",
        "\t\treturn\n",
        "\tmid = (l+r) // 2\n",
        "\tbuild(id<<1, l, mid)\n",
        "\tbuild(id<<1 | 1, mid+1, r)\n",
        "\ttree[id] = tree[id<<1] | tree[id<<1 | 1]\n",
        "\twhile len(tree[id]) > 5:\n",
        "\t\ttree[id].remove(min(tree[id]))\n",
        "\n",
        "def addvalue(id, delta):\n",
        "\ttemp = {()}\n",
        "\ttemp.clear()\n",
        "\twhile len(tree[id]) > 0:\n",
        "\t\tte = tree[id].pop()\n",
        "\t\ttemp.add((te[0] + delta, te[1]))\n",
        "\ttree[id] = temp\n",
        "\n",
        "def update_node(id):\n",
        "\tif lazy[id] == 0: return\n",
        "\tif left[id] != right[id]:\n",
        "\t\tlazy[id<<1] += lazy[id]\n",
        "\t\tlazy[id<<1 | 1] += lazy[id]\n",
        "\taddvalue(id, lazy[id])\n",
        "\tlazy[id] = 0\n",
        "\n",
        "\n",
        "def update(id, l, r, delta):\n",
        "\tupdate_node(id)\n",
        "\tif l>right[id] or r<left[id]:\n",
        "\t\treturn\n",
        "\tif l<=left[id] and right[id]<=r:\n",
        "\t\tlazy[id] += delta\n",
        "\t\tupdate_node(id)\n",
        "\t\treturn\n",
        "\n",
        "\tupdate(id<<1, l, r, delta)\n",
        "\tupdate(id<<1 | 1, l, r, delta)\n",
        "\ttree[id] = tree[id<<1] | tree[id<<1 | 1]\n",
        "\twhile len(tree[id]) > 5:\n",
        "\t\ttree[id].remove(min(tree[id]))\n",
        "\n",
        "build(1, 1, n)\n",
        "for test in range(Q):\n",
        "\tinp = input().strip().split()\n",
        "\ttyp = int(inp[0])\n",
        "\tif typ == 1:\n",
        "\t\tl = int(inp[1])\n",
        "\t\tr = int(inp[2])\n",
        "\t\tdelta = int(inp[3])\n",
        "\t\tupdate(1, l, r, delta)\n",
        "\telse:\n",
        "\t\tk = int(inp[1])\n",
        "\t\tans = sorted(tree[1], reverse=True)\n",
        "\t\tfor i in range(min(k, n)):\n",
        "\t\t\tprint(ans[i][1], end = ' ')\n",
        "\t\tprint()"
      ],
      "execution_count": null,
      "outputs": []
    },
    {
      "cell_type": "markdown",
      "metadata": {
        "id": "v_3oLlvQ11wO"
      },
      "source": [
        "# Bài 4"
      ]
    },
    {
      "cell_type": "markdown",
      "metadata": {
        "id": "IthZph53TiQv"
      },
      "source": [
        "##**Tóm Tắt**\n",
        "Cho dãy A gồm N phần tử, cần kiểm tra xem phải bỏ đi bao nhiêu phần tử thì dãy còn lại không thể chia thành 2 phần có tổng bằng nhau\n",
        "\n",
        "**Ràng Buộc**\n",
        "\n",
        "* 1 <= N <= 100\n",
        "* Khối lượng của mỗi củ cà rốt không quá 2000\n",
        "* Thời gian 1s  "
      ]
    },
    {
      "cell_type": "markdown",
      "metadata": {
        "id": "SqBBymo53j1Y"
      },
      "source": [
        "##**Tiếp cận**\n",
        "\n",
        "Gọi S là tổng khối lượng của N củ cà rốt.\n",
        "\n",
        "Trường hợp 0: S % 2 != 0\n",
        "\n",
        "Rõ ràng không tồn tại cách chia ra 2 phần bằng nhau. Vậy đáp án là X = 0.\n",
        "Trường hợp 1: S % 2 == 0 và tồn tại một số củ cà rốt có khối lượng lẽ\n",
        "\n",
        "Vậy nếu ta loại bỏ đi củ cà rốt này, thì những củ cà rốt còn lại sẽ không chia thành 2 phần bằng nhau, vậy đáp án là X = 1.\n",
        "Trường hợp 2: S % 2 == 0 và mọi củ cà rốt đều có khối lượng chẵn\n",
        "\n",
        "Ta có thể gọi quy hoạch động tương tự bài toán dãy con có tổng bằng S. Ở đây sẽ kiểm tra xem có thể tạo ra tổng S / 2 không, nếu như không thể tạo ra thì đáp án là X = 0, vì tập ban đầu không thể chia ra 2 phần bằng nhau. Câu hỏi đặt ra là ngược lại, nếu như tạo ra được tổng S / 2 thì làm cách nào để xem xét phần tử nào nên được xóa hay không tồn tại đáp án?\n",
        "\n",
        "Trả lời: Ta gọi A là tập N củ cà rốt ban đầu. B là tập N củ cà rốt nhưng mỗi củ cà rốt có giá trị chỉ bằng 1/2 so với A. Việc chia A ra thành 2 phần, mỗi phần có tổng S / 2, vì mọi củ cà rốt là chẵn nên S / 2 cũng chẵn. Suy ra cũng tồn tại cách chia B ra thành 2 phần bằng nhau, mỗi phần có tổng S / 4, và cách chia trên B cũng chính là cách chia trên A. Nếu như trên B tồn tại một củ cà rốt khối lượng lẽ, vậy ta đã xác định được phần tử cần xóa (đây tương tự như trường hợp 1). Nếu như trên B không có củ cà rốt nào khối lượng lẽ, vậy ta sẽ áp dụng tương tự, tìm một mảng C có khối lượng 1/2 khối lượng so với mảng B, ... cho đến khi tồn tại một củ cà rốt khối lượng lẽ.\n",
        "\n",
        "Nguồn bài: https://codeforces.com/contest/1516/problem/C"
      ]
    },
    {
      "cell_type": "markdown",
      "metadata": {
        "id": "_uoh9kaH3vCA"
      },
      "source": [
        "##**Code**"
      ]
    },
    {
      "cell_type": "code",
      "metadata": {
        "id": "PgzzN_NLUMqC"
      },
      "source": [
        "n = int(input())\n",
        "arr = [int(i) for i in input().split()]\n",
        "sum = 0\n",
        "chk = [False for i in range(200000+10)]\n",
        "\n",
        "for x in arr:\n",
        "    sum += x\n",
        "\n",
        "if (sum % 2 != 0):\n",
        "    print(\"0\")\n",
        "    exit()\n",
        "\n",
        "sum2 = int(sum / 2)\n",
        "\n",
        "chk[0] = True\n",
        "for x in arr:\n",
        "    if chk[sum2] == True:\n",
        "        break\n",
        "\n",
        "    for i in reversed(range(0, sum2 + 1 - x)):\n",
        "        if chk[i]:\n",
        "            chk[i + x] = True\n",
        "            \n",
        "        if chk[sum2] == True:\n",
        "            break\n",
        "\n",
        "if (chk[sum2] == False):\n",
        "    print(\"0\")\n",
        "    exit()\n",
        "else:\n",
        "    while (True):\n",
        "        for i in range(n):\n",
        "            if arr[i] % 2 != 0:\n",
        "                print(\"1\")\n",
        "                print(i + 1)\n",
        "                exit()\n",
        "            arr[i] = int(arr[i] / 2)"
      ],
      "execution_count": null,
      "outputs": []
    },
    {
      "cell_type": "markdown",
      "metadata": {
        "id": "5ocM8Oh82HyN"
      },
      "source": [
        "# Bài 5"
      ]
    },
    {
      "cell_type": "markdown",
      "metadata": {
        "id": "HMkQuZlXUWaA"
      },
      "source": [
        "##**Tóm Tắt**\n",
        "\n",
        "Cho ma trận $A$ kích thước $N*M (N, M \\le 40, A_{i, j} = [0..4])$, $A_{i, j}$ là số ô có bom cạnh ô $[i, j]$. Xây dụng ma trận $B$ kích thước $N*M$, $B_{i, j} = 1$ nếu ô $[i, j]$ có bom, $B_{i, j} = 0$ nếu ô $[i, j]$ không có bom, sao cho thỏa mãn ma trận $A$.\n",
        "\n",
        "**Ràng buộc:**\n",
        "* 1 <= N, M <= 40\n",
        "* Thời gian, 1s "
      ]
    },
    {
      "cell_type": "markdown",
      "metadata": {
        "id": "Oe0a4Wa53kBX"
      },
      "source": [
        "##**Tiếp cận**\n",
        "\n",
        "Vì không mất tính tổng quát, ta có thể giả sử N <= M.\n",
        "\n",
        "Ta gọi mỗi cấu hình là một cách gán cho mỗi phần tử trong B giá trị [0, 1] tương ứng\n",
        "\n",
        "**Tiếp cận 1** \n",
        "\n",
        "* Ta có thể sinh ra toàn bộ cấu hình có thể có ở cột 1. Có tất cả 2^N cấu hình. Với mỗi cấu hình thì từ đó có thể tính ra cột 2, 3, ..., M, kiểm tra xem có thỏa mãn mảng A hay không, từ đó tìm ra nghiệm. Độ phức tạp ~O(2^N.N.M). Dễ thấy là N > 20 thì độ phức tạp của bài toán sẽ lớn, không giải quyết được hoàn toàn.\n",
        "\n",
        "**Tiếp cận 2** \n",
        "\n",
        "* Nếu như A[x, y] = 0 hoặc A[x, y] = 4 thì rõ ràng, ta xác định được các giá trị B tương ứng, bởi chỉ có một cấu hình duy nhất.\n",
        "\n",
        "* Từ đó vấn đề bây giờ chỉ cần giải quyết với các A[x, y] = 1, 2 hoặc 3. Đây có thể là nhánh cận để áp dụng giải quyết bài toán từ tiếp cận 1. Nhưng không đảm bảo là giải quyết được bài toán!\n",
        "\n",
        "**Tiếp cận 3** \n",
        "\n",
        "* Ta sử dụng quay lui, tại bước thứ i, giả sử ta biết được các ô B[1, 1..i] và B[1..i, 1], từ đây ta sẽ tính được các ô B(x, y) thỏa mãn (x + y <= 1 + i) và đồng thời kiểm tra được xem tại bước thứ i này thỏa mãn ko. Nếu thỏa mãn thì đi tiếp đến bước thứ i + 1, ngược lại thì quay lui.\n",
        "\n",
        "* Việc tính toán và kiểm tra từng bước như cách tiếp cận này, là phương pháp quay lui có nhánh cận, từ đó giảm thiểu việc tính ra những cấu hình không thỏa mãn. Bởi bài toán luôn tồn tại đáp án nên việc tìm ra đáp án với cách tiếp cận này là nhanh chóng. \n",
        "\n",
        "Một bài tương tự\n",
        "https://oj.vnoi.info/problem/nkmines "
      ]
    },
    {
      "cell_type": "markdown",
      "metadata": {
        "id": "D2KZQ7HV3vc3"
      },
      "source": [
        "##**Code**"
      ]
    },
    {
      "cell_type": "code",
      "metadata": {
        "id": "6gmCni7tUycp"
      },
      "source": [
        "import math\n",
        "\n",
        "n, m = map(int, input().split())\n",
        "deg = [[int(x) for x in input().split()] for i in range(n)]\n",
        "b = [[0 for j in range(m)] for i in range(n)]\n",
        "\n",
        "def rest_deg(i, j):\n",
        "\tans = 0\n",
        "\tif (i > 0) and (b[i-1][j] == 1): ans+=1\n",
        "\tif (i < n-1) and (b[i+1][j] == 1): ans+=1\n",
        "\tif (j > 0) and (b[i][j-1] == 1): ans+=1\n",
        "\tif (j < m-1) and (b[i][j+1] == 1): ans+=1\n",
        "\treturn deg[i][j] - ans\n",
        "\n",
        "def get_result():\n",
        "\tif rest_deg(n-1, m-1) !=0:\n",
        "\t\treturn\n",
        "\tfor i in range(n):\n",
        "\t\tfor j in range(m):\n",
        "\t\t\tprint(b[i][j], end=' ')\n",
        "\t\tprint()\n",
        "\tquit()\n",
        "\n",
        "def backtracking(i, j):\n",
        "\tfor x in range(2):\n",
        "\t\tb[i][j] = x\n",
        "\t\tstop = False\n",
        "\n",
        "\t\tif i > 0 and rest_deg(i-1, j) != 0:\n",
        "\t\t\tcontinue\n",
        "\n",
        "\t\tfor k in range(1, min(n-i, j+1)):\n",
        "\t\t\ttemp = rest_deg(i+k-1, j-k)\n",
        "\t\t\tif temp!=0 and temp!=1:\n",
        "\t\t\t\tstop = True\n",
        "\t\t\t\tbreak\n",
        "\t\t\tb[i+k][j-k] = temp\n",
        "\n",
        "\t\tif n-i < j+1 and rest_deg(n-1, j-n+i) != 0:\n",
        "\t\t\tstop = True\n",
        "\n",
        "\t\tif not stop:\n",
        "\t\t\tif i == n-1 and  j == m-1:\n",
        "\t\t\t\tget_result()\n",
        "\t\t\telif i+j+1 < m:\n",
        "\t\t\t\tcalc(i, j+1)\n",
        "\t\t\telse:\n",
        "\t\t\t\tcalc(i+1, j)\n",
        "\n",
        "\t\tfor k in range(1, min(n-i, j+1)):\n",
        "\t\t\tb[i+k][j-k] = 0\n",
        "backtracking(0, 0)"
      ],
      "execution_count": null,
      "outputs": []
    }
  ]
}