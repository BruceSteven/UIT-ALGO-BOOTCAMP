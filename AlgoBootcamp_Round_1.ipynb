{
  "nbformat": 4,
  "nbformat_minor": 0,
  "metadata": {
    "colab": {
      "name": "AlgoBootcamp_Round_1.ipynb",
      "provenance": [],
      "authorship_tag": "ABX9TyM/jORnUSFzvGblm2PX1dJS",
      "include_colab_link": true
    },
    "kernelspec": {
      "name": "python3",
      "display_name": "Python 3"
    },
    "language_info": {
      "name": "python"
    }
  },
  "cells": [
    {
      "cell_type": "markdown",
      "metadata": {
        "id": "view-in-github",
        "colab_type": "text"
      },
      "source": [
        "<a href=\"https://colab.research.google.com/github/BruceSteven/UIT-ALGO-BOOTCAMP/blob/main/AlgoBootcamp_Round_1.ipynb\" target=\"_parent\"><img src=\"https://colab.research.google.com/assets/colab-badge.svg\" alt=\"Open In Colab\"/></a>"
      ]
    },
    {
      "cell_type": "markdown",
      "metadata": {
        "id": "1mWrD2vO1NlP"
      },
      "source": [
        "# Bài 1"
      ]
    },
    {
      "cell_type": "markdown",
      "metadata": {
        "id": "E3aRDB7238Gt"
      },
      "source": [
        "##**Bài 1 - Hidden words**\n",
        "\n",
        "Câu đố tiếng anh, tìm từ bị ẩn trong bảng chữ cái hình chữ nhật, là một trong những câu đố hay giúp mọi người có thể học nhanh từ vựng tiếng anh. Câu đố là một bảng hình chữ nhật gồm NxM ô, mỗi ô chứa một ký tự thường từ a..z. Chúng ta có nhiệm vụ là tìm kiếm trên từng hàng và trên từng cột những ô liên tiếp mà nối với nhau thì tạo thành một từ tiếng anh có nghĩa.\n",
        "\n",
        "Hôm nay là cuối tuần, Meow đang chơi câu đố này. Tuy nhiên, ngoài bảng chữ cái sẽ còn có thêm một tập danh sách gồm Q từ, mỗi từ có đội dài từ 2 đến 10 ký tự. Meow được yêu cầu là với mỗi từ trong danh sách, hãy xác định xem từ đó có được ẩn dấu trong bảng chữ cái hay không? Vì bảng chữ cái lớn nên Meow không thể giải trò chơi nhanh chóng được, các bạn lập trình viên hãy giúp cô ấy nhé!\n",
        "\n",
        "**Đầu vào:**\n",
        "\n",
        "Dòng đầu tiên gồm 3 số nguyên dương N, M, Q thể hiện kích thước của bảng chữ nhật và số lượng từ trong danh sách\n",
        "N dòng tiếp theo, mỗi dòng gồm M ký tự biểu diễn bảng chữ cái\n",
        "Q dòng tiếp theo, mỗi dòng gồm một từ độ dài từ 2 đến 10 ký tự\n",
        "Đầu ra:\n",
        "\n",
        "gồm một dòng duy nhất gồm Q ký tự. Ký tự thứ i là '0' nếu như từ thứ i không xuất hiện trong bảng chữ cái, ngược lại là '1'\n",
        "Ràng buộc:\n",
        "\n",
        "1 <= N * M <= 100.000\n",
        "1 <= Q <= 10.000\n",
        "Thời gian mỗi test là 1s\n",
        "##**Ví dụ:**\n",
        "\n",
        "**--- Đầu vào ---**\n",
        "\n",
        "5 5 6\n",
        "\n",
        "kicko\n",
        "\n",
        "ffalg\n",
        "\n",
        "oboot\n",
        "\n",
        "campc\n",
        "\n",
        "ontes\n",
        "\n",
        "ff\n",
        "\n",
        "catp\n",
        "\n",
        "cao\n",
        "\n",
        "kick\n",
        "\n",
        "olo\n",
        "\n",
        "kfops\n",
        "\n",
        "**--- Đầu ra ---**\n",
        "\n",
        "101100"
      ]
    },
    {
      "cell_type": "markdown",
      "metadata": {
        "id": "NuvGBw284uQQ"
      },
      "source": [
        "##**Tiếp cận**\n",
        "**Tiếp cận 1 : Brute force**\n",
        "\n",
        "Với mỗi từ thuộc Q, duyệt qua từng phần tử trong bảng ký tự cho đến khi tìm được.\n",
        "ĐPT ~ O(Q*N*M) -> Không khả thi.\n",
        "\n",
        "**Tiếp cận 2 : Hashing + Binear Search**\n",
        "\n",
        "Dùng **vét cạn** kết hợp **hashing** chia các nhóm từ trong bảng chữ cái MxN (từ trên xuống, từ trái sang phải) thành các nhóm có cùng độ dài (nhỏ hơn 10). Kết hợp **tìm kiếm nhị phân** trên tập hợp các nhóm từ đã sắp xếp so sánh với Q từ cần tìm.\n",
        "\n",
        "ĐPT : ~ O(10.N.M.log2(N.M)) + O(Q.log2(N.M))\n",
        "\n",
        "**Tiếp cận 3 : Hasing + Trie**\n",
        "\n",
        "Tương tự tiếp cận 2 nhưng thay vì dùng STL ta dùng cấu trúc **cây tiền tố trie**.\n",
        "\n",
        "Cây trie ở đây mỗi node sẽ lưu con trỏ đến 26 node con, tương ứng là 26 ký tự biểu diễn bảng a..z. Việc tạo cây sẽ có độ phức tạp là O(N.M.10) và việc gọi truy vấn có độ phức tạp là O(10.Q) với 10 là chiều dài tối đa của từ truy vấn. Vậy tổng độ phức tạp của bài toán là O(N.M.10) + O(10.Q), nhanh hơn so với Tiếp cận 2."
      ]
    },
    {
      "cell_type": "code",
      "metadata": {
        "id": "IIX3mJpuCXCY"
      },
      "source": [
        "# Tiếp cận 2 -> C++\n",
        "#include bi"
      ],
      "execution_count": null,
      "outputs": []
    },
    {
      "cell_type": "markdown",
      "metadata": {
        "id": "nAXkI9SC1tRV"
      },
      "source": [
        "# Bài 2"
      ]
    },
    {
      "cell_type": "markdown",
      "metadata": {
        "id": "1M3FYzUp3jAA"
      },
      "source": [
        "# Tiếp cận"
      ]
    },
    {
      "cell_type": "markdown",
      "metadata": {
        "id": "AdELr9KP3o4h"
      },
      "source": [
        "# Code"
      ]
    },
    {
      "cell_type": "markdown",
      "metadata": {
        "id": "E1HbY7hU1wr1"
      },
      "source": [
        "\n",
        "\n",
        "# Bài 3\n"
      ]
    },
    {
      "cell_type": "markdown",
      "metadata": {
        "id": "32_JJorj3jav"
      },
      "source": [
        "# Tiếp cận"
      ]
    },
    {
      "cell_type": "markdown",
      "metadata": {
        "id": "MlTHbbsx3uaX"
      },
      "source": [
        "# Code"
      ]
    },
    {
      "cell_type": "markdown",
      "metadata": {
        "id": "v_3oLlvQ11wO"
      },
      "source": [
        "# Bài 4"
      ]
    },
    {
      "cell_type": "markdown",
      "metadata": {
        "id": "SqBBymo53j1Y"
      },
      "source": [
        "# Tiếp cận"
      ]
    },
    {
      "cell_type": "markdown",
      "metadata": {
        "id": "_uoh9kaH3vCA"
      },
      "source": [
        "# Code"
      ]
    },
    {
      "cell_type": "markdown",
      "metadata": {
        "id": "5ocM8Oh82HyN"
      },
      "source": [
        "# Bài 5"
      ]
    },
    {
      "cell_type": "markdown",
      "metadata": {
        "id": "Oe0a4Wa53kBX"
      },
      "source": [
        "# Tiếp cận"
      ]
    },
    {
      "cell_type": "markdown",
      "metadata": {
        "id": "D2KZQ7HV3vc3"
      },
      "source": [
        "# Code"
      ]
    }
  ]
}